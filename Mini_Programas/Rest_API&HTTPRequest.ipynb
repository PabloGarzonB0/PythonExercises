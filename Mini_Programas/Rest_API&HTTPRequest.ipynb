{
 "cells": [
  {
   "cell_type": "markdown",
   "metadata": {},
   "source": [
    "## HTTP protocol\n",
    " Es considerado como el protocolo general de transferencia de documentos en la web, esto cubre la api rest, las request y responds se comunican a partir de los mensajes HTTP que contiene archivos de tipo Json, los recursos solicitados puedes ser diferentes\n",
    " 1. Index.html\n",
    " 2. Image.png\n",
    " 3. File.txt\n",
    "\n",
    "URL (Uniform Resouce Locator) : Es la forma mas popular de solicitar recursos a la web. este se devide en 3 partes\n",
    "- esquema: protocolo que contiene siembre http://\n",
    "- direccion de internet o url base: encuentra la localizacion usada. www.ibm.com\n",
    "- Route: la localizacion del servicio web. /images/IDSNlogo.png\n",
    "   \n",
    "Request Start line: /Get/index.html HTTP/1.0    --> 200 ok\n",
    "Request Header: User-Agent: pyhon-requests/2.21.0\n",
    "Accept-Encoding: gzip, deflate:\n",
    "\n",
    "Response Body: HTML content\n",
    "\n",
    "\n",
    "### Status code\n",
    "1xx ~ Informational <br>\n",
    "100 ~ Everithing so Far is ok <br>\n",
    "2xx ~ Success <br>\n",
    "200 ~ Ok <br>\n",
    "3xx ~ Redirection <br>\n",
    "300 ~ Multiple Choices <br>\n",
    "4xx ~ Client Error <br>\n",
    "401 ~ Unauthorizes <br>\n",
    "404 ~ Not Found <br>\n",
    "500 ~ Server Error <br>\n",
    "501 ~ No implemented <br>\n",
    "\n",
    "\n",
    "HTTP Methods\n",
    "GET: Recupera los datos del servidor\n",
    "POST: Envia datos al servidor\n",
    "PUT: Actualizar los datos ya en el servidor\n",
    "DELETE:  Elimina los datos del servidor"
   ]
  },
  {
   "cell_type": "markdown",
   "metadata": {},
   "source": [
    "Algunas librerias de python que permiten maniputar API'S utilizando el protocolo HTTP son las siguintes, httplib, urllib, permitiendo enviar solicitudes "
   ]
  },
  {
   "cell_type": "code",
   "execution_count": 1,
   "metadata": {},
   "outputs": [
    {
     "data": {
      "text/plain": [
       "'\\n<!DOCTYPE HTML>\\n<html lang=\"en\">\\n<head>\\r\\n    \\r\\n    \\r\\n    \\r\\n    \\r\\n    \\r\\n    \\r\\n    \\r\\n      \\r\\n    \\r\\n  '"
      ]
     },
     "execution_count": 1,
     "metadata": {},
     "output_type": "execute_result"
    }
   ],
   "source": [
    "import requests\n",
    "url = 'https://www.ibm.com/'\n",
    "r = requests.get(url)\n",
    "\n",
    "\n",
    "# Verificacion de la solicitud\n",
    "r.status_code\n",
    "r.request.headers\n",
    "r.request.body\n",
    "\n",
    "# Obtener informacion del encapezado de la solicitud\n",
    "header = r.headers\n",
    "header['date']\n",
    "header['Content-Type']\n",
    "\n",
    "\n",
    "# Verificar el tipo de codificacion\n",
    "r.encoding\n",
    "r.text[0:100] #Obtener parte del contenido\n"
   ]
  },
  {
   "cell_type": "markdown",
   "metadata": {},
   "source": [
    "![image.png](./QueryURL.png)"
   ]
  },
  {
   "cell_type": "markdown",
   "metadata": {},
   "source": [
    "# Parametros de realizar una consulta mediante una solicitud GET\n",
    "Luego de definir el inicio de la consulta con el simbolo ?, se especifica el nombre del parametro que se piensa extraer, seguido del valor, ademas se pueden utilizar concatenadores para relacionar atributos como &"
   ]
  },
  {
   "cell_type": "code",
   "execution_count": 2,
   "metadata": {},
   "outputs": [
    {
     "name": "stdout",
     "output_type": "stream",
     "text": [
      "Request:  http://httpbin.org/get?name=Joseph&ID=123\n"
     ]
    },
    {
     "data": {
      "text/plain": [
       "200"
      ]
     },
     "execution_count": 2,
     "metadata": {},
     "output_type": "execute_result"
    }
   ],
   "source": [
    "# manera practica de realizar una solicitud con parametros\n",
    "url_get = 'http://httpbin.org/get'\n",
    "payload = {\"name\":\"Joseph\", \"ID\":\"123\"}\n",
    "\n",
    "r=requests.get(url_get, params=payload)\n",
    "\n",
    "print(\"Request: \",r.url)\n",
    "r.status_code"
   ]
  },
  {
   "cell_type": "markdown",
   "metadata": {},
   "source": [
    "# Solicitud vista desde el navegador\n",
    "![Json_image](./JsonResponds.png)"
   ]
  },
  {
   "cell_type": "code",
   "execution_count": 3,
   "metadata": {},
   "outputs": [
    {
     "name": "stdout",
     "output_type": "stream",
     "text": [
      "application/json\n",
      "{'args': {'ID': '123', 'name': 'Joseph'}, 'headers': {'Accept': '*/*', 'Accept-Encoding': 'gzip, deflate', 'Host': 'httpbin.org', 'User-Agent': 'python-requests/2.32.3', 'X-Amzn-Trace-Id': 'Root=1-67b4e56e-5c9ae6260f1a79673ab5548e'}, 'origin': '186.81.0.216', 'url': 'http://httpbin.org/get?name=Joseph&ID=123'}\n",
      "{'ID': '123', 'name': 'Joseph'}\n"
     ]
    }
   ],
   "source": [
    "print(r.headers['Content-Type'])\n",
    "print(r.json())\n",
    "print(r.json()['args']) # Atributos utilizados para la consulta"
   ]
  },
  {
   "cell_type": "markdown",
   "metadata": {},
   "source": [
    "# Solicitud POST\n",
    "Se enviaran datos al servido web, por tanto se considera la siguiente sintaxis"
   ]
  },
  {
   "cell_type": "code",
   "execution_count": 4,
   "metadata": {},
   "outputs": [
    {
     "name": "stdout",
     "output_type": "stream",
     "text": [
      "Post request URL:  http://httpbin.org/post\n",
      "Get request URL:  http://httpbin.org/get?name=Joseph&ID=123\n",
      "Post request body:  name=Joseph&ID=123\n",
      "Get request body:  None\n"
     ]
    }
   ],
   "source": [
    "url_post = \"http://httpbin.org/post\"\n",
    "payload ={\"name\":\"Joseph\",\"ID\":\"123\"}\n",
    "\n",
    "r_post = requests.post(url_post, data=payload)\n",
    "\n",
    "print(\"Post request URL: \", r_post.url)\n",
    "print(\"Get request URL: \", r.url)\n",
    "\n",
    "print(\"Post request body: \", r_post.request.body)\n",
    "print(\"Get request body: \", r.request.body)"
   ]
  },
  {
   "cell_type": "code",
   "execution_count": 5,
   "metadata": {},
   "outputs": [
    {
     "data": {
      "text/plain": [
       "{'ID': '123', 'name': 'Joseph'}"
      ]
     },
     "execution_count": 5,
     "metadata": {},
     "output_type": "execute_result"
    }
   ],
   "source": [
    "r_post.json()['form']"
   ]
  },
  {
   "cell_type": "markdown",
   "metadata": {},
   "source": [
    "### API\n",
    "Una api es un software intermediario que permite la comunicacion entre un nodo cliente y un nodo servidor web. este permite disponer de informacion de terceros para nuestras aplicaciones web, a continuacion hay un link donde puedes consultar diferentes tipos de API's de uso gratuito.\n",
    "\n",
    "[Enlace de recursos de api](https://mixedanalytics.com/blog/list-actually-free-open-no-auth-needed-apis/)\n",
    "\n",
    "### Ventajas de utilizar Api\n",
    "- Permite menos esfuerzo y facil atualizacion, permitiendo procesos rapidos y productivos\n",
    "- Permite usar la capacidad de  Api's desarrolladas para no tener que implementar una api desde cero\n",
    "### Desventajas de utilizar Api\n",
    "- Pobremente integradas, vulnerable a ataques o perdida de datos en  importantes pueden ser mas frecuentes en entidades financieras\n",
    "\n"
   ]
  },
  {
   "cell_type": "markdown",
   "metadata": {},
   "source": [
    "## Example 1: RandomUser API\n",
    "Estos son algunos de los metodos mas comunes utilizados para la  API de generacion de usuarios random.\n",
    "- get_cell()\n",
    "- get_city()\n",
    "- get_dob()\n",
    "- get_email()\n",
    "- get_first_name()\n",
    "- get_full_name()\n",
    "- get_gender()\n",
    "- get_id()\n",
    "- get_id_number()\n",
    "- get_id_type()\n",
    "- get_info()\n",
    "- get_last_name()\n",
    "- get_login_md5()\n",
    "- get_login_salt()\n",
    "- get_login_sha1()\n",
    "- get_login_sha256()\n",
    "- get_nat()\n",
    "- get_password()\n",
    "- get_phone()\n",
    "- get_picture()\n",
    "- get_postcode()\n",
    "- get_registered()\n",
    "- get_state()\n",
    "- get_street()\n",
    "- get_username()\n",
    "- get_zipcode()\n",
    "\n"
   ]
  },
  {
   "cell_type": "code",
   "execution_count": 6,
   "metadata": {},
   "outputs": [
    {
     "name": "stdout",
     "output_type": "stream",
     "text": [
      "Requirement already satisfied: randomuser in c:\\users\\pablo\\appdata\\local\\programs\\python\\python312\\lib\\site-packages (1.6)\n",
      "Requirement already satisfied: pandas in c:\\users\\pablo\\appdata\\local\\programs\\python\\python312\\lib\\site-packages (2.2.0)\n",
      "Requirement already satisfied: numpy<2,>=1.26.0 in c:\\users\\pablo\\appdata\\local\\programs\\python\\python312\\lib\\site-packages (from pandas) (1.26.4)\n",
      "Requirement already satisfied: python-dateutil>=2.8.2 in c:\\users\\pablo\\appdata\\local\\programs\\python\\python312\\lib\\site-packages (from pandas) (2.8.2)\n",
      "Requirement already satisfied: pytz>=2020.1 in c:\\users\\pablo\\appdata\\local\\programs\\python\\python312\\lib\\site-packages (from pandas) (2024.1)\n",
      "Requirement already satisfied: tzdata>=2022.7 in c:\\users\\pablo\\appdata\\local\\programs\\python\\python312\\lib\\site-packages (from pandas) (2024.1)\n",
      "Requirement already satisfied: six>=1.5 in c:\\users\\pablo\\appdata\\local\\programs\\python\\python312\\lib\\site-packages (from python-dateutil>=2.8.2->pandas) (1.16.0)\n"
     ]
    }
   ],
   "source": [
    "!pip install randomuser\n",
    "!pip install pandas"
   ]
  },
  {
   "cell_type": "code",
   "execution_count": 8,
   "metadata": {},
   "outputs": [],
   "source": [
    "from randomuser import RandomUser\n",
    "import pandas as pd\n",
    "\n",
    "# Creacion de un objeto de Usuario Random\n",
    "r = RandomUser()\n"
   ]
  },
  {
   "cell_type": "code",
   "execution_count": 10,
   "metadata": {},
   "outputs": [],
   "source": [
    "# Generacion de lista de usuarios utilizando la funcion genrate_users()\n",
    "list_new_user = r.generate_users(10)\n"
   ]
  },
  {
   "cell_type": "code",
   "execution_count": 12,
   "metadata": {},
   "outputs": [
    {
     "data": {
      "text/plain": [
       "'Addison Rice'"
      ]
     },
     "execution_count": 12,
     "metadata": {},
     "output_type": "execute_result"
    }
   ],
   "source": [
    "# Get method, funcion que se utiliza para obtener el nombre completo del usuario random creado\n",
    "name = r.get_full_name()\n",
    "name"
   ]
  },
  {
   "cell_type": "code",
   "execution_count": 14,
   "metadata": {},
   "outputs": [
    {
     "name": "stdout",
     "output_type": "stream",
     "text": [
      "Clara Olsen : clara.olsen@example.com\n",
      "{'type': 'CPR', 'number': '190690-2835'} : https://randomuser.me/api/portraits/women/59.jpg\n",
      "Jimi Ranta : jimi.ranta@example.com\n",
      "{'type': 'HETU', 'number': 'NaNNA913undefined'} : https://randomuser.me/api/portraits/men/22.jpg\n",
      "Kathleen Neal : kathleen.neal@example.com\n",
      "{'type': 'PPS', 'number': '7380991T'} : https://randomuser.me/api/portraits/women/2.jpg\n",
      "Ron Davis : ron.davis@example.com\n",
      "{'type': 'PPS', 'number': '0696428T'} : https://randomuser.me/api/portraits/men/13.jpg\n",
      "Iben Gramstad : iben.gramstad@example.com\n",
      "{'type': 'FN', 'number': '19115644222'} : https://randomuser.me/api/portraits/women/15.jpg\n",
      "Vivan Holland : vivan.holland@example.com\n",
      "{'type': 'SSN', 'number': '446-43-9165'} : https://randomuser.me/api/portraits/women/23.jpg\n",
      "Tom Nelson : tom.nelson@example.com\n",
      "{'type': 'TFN', 'number': '254839328'} : https://randomuser.me/api/portraits/men/48.jpg\n",
      "Dorthea Lauvrak : dorthea.lauvrak@example.com\n",
      "{'type': 'FN', 'number': '11105206811'} : https://randomuser.me/api/portraits/women/11.jpg\n",
      "Leanne Côté : leanne.cote@example.com\n",
      "{'type': '', 'number': None} : https://randomuser.me/api/portraits/women/18.jpg\n",
      "Pihla Koski : pihla.koski@example.com\n",
      "{'type': 'HETU', 'number': 'NaNNA768undefined'} : https://randomuser.me/api/portraits/women/31.jpg\n"
     ]
    }
   ],
   "source": [
    "# Imprimir en pantalla el correo de los primeros 10 usuarios\n",
    "for user in list_new_user:\n",
    "    print(f\"{user.get_full_name()} : {user.get_email()}\")\n",
    "    print(f\"{user.get_id()} : {user.get_picture()}\")"
   ]
  },
  {
   "cell_type": "code",
   "execution_count": 15,
   "metadata": {},
   "outputs": [],
   "source": [
    "# Funcion que organiza los usuarios generados de forma random\n",
    "def get_users():\n",
    "    users = []\n",
    "    \n",
    "    for user in RandomUser.generate_users(10):\n",
    "        users.append({ \"Name \":user.get_full_name(),\n",
    "                      \"Gender \":user.get_gender(),\n",
    "                      \"City \":user.get_city(),\n",
    "                      \"State\":user.get_state(),\n",
    "                      \"Email\":user.get_email(),\n",
    "                      \"DoB\": user.get_dob(),\n",
    "                      \"Picture\": user.get_picture()\n",
    "                    })\n",
    "    return pd.DataFrame(users)\n"
   ]
  },
  {
   "cell_type": "code",
   "execution_count": 16,
   "metadata": {},
   "outputs": [],
   "source": [
    "df = get_users()"
   ]
  },
  {
   "cell_type": "code",
   "execution_count": 17,
   "metadata": {},
   "outputs": [
    {
     "data": {
      "text/html": [
       "<div>\n",
       "<style scoped>\n",
       "    .dataframe tbody tr th:only-of-type {\n",
       "        vertical-align: middle;\n",
       "    }\n",
       "\n",
       "    .dataframe tbody tr th {\n",
       "        vertical-align: top;\n",
       "    }\n",
       "\n",
       "    .dataframe thead th {\n",
       "        text-align: right;\n",
       "    }\n",
       "</style>\n",
       "<table border=\"1\" class=\"dataframe\">\n",
       "  <thead>\n",
       "    <tr style=\"text-align: right;\">\n",
       "      <th></th>\n",
       "      <th>Name</th>\n",
       "      <th>Gender</th>\n",
       "      <th>City</th>\n",
       "      <th>State</th>\n",
       "      <th>Email</th>\n",
       "      <th>DoB</th>\n",
       "      <th>Picture</th>\n",
       "    </tr>\n",
       "  </thead>\n",
       "  <tbody>\n",
       "    <tr>\n",
       "      <th>0</th>\n",
       "      <td>Juan Vega</td>\n",
       "      <td>male</td>\n",
       "      <td>Alcalá de Henares</td>\n",
       "      <td>Comunidad Valenciana</td>\n",
       "      <td>juan.vega@example.com</td>\n",
       "      <td>1955-04-10T03:52:02.571Z</td>\n",
       "      <td>https://randomuser.me/api/portraits/men/74.jpg</td>\n",
       "    </tr>\n",
       "    <tr>\n",
       "      <th>1</th>\n",
       "      <td>Rose Lavoie</td>\n",
       "      <td>female</td>\n",
       "      <td>Fountainbleu</td>\n",
       "      <td>British Columbia</td>\n",
       "      <td>rose.lavoie@example.com</td>\n",
       "      <td>1965-06-10T23:46:02.822Z</td>\n",
       "      <td>https://randomuser.me/api/portraits/women/84.jpg</td>\n",
       "    </tr>\n",
       "    <tr>\n",
       "      <th>2</th>\n",
       "      <td>سپهر کامروا</td>\n",
       "      <td>male</td>\n",
       "      <td>زنجان</td>\n",
       "      <td>هرمزگان</td>\n",
       "      <td>sphr.khmrw@example.com</td>\n",
       "      <td>1994-11-19T07:23:16.866Z</td>\n",
       "      <td>https://randomuser.me/api/portraits/men/48.jpg</td>\n",
       "    </tr>\n",
       "    <tr>\n",
       "      <th>3</th>\n",
       "      <td>Nella Remes</td>\n",
       "      <td>female</td>\n",
       "      <td>Myrskylä</td>\n",
       "      <td>Finland Proper</td>\n",
       "      <td>nella.remes@example.com</td>\n",
       "      <td>1984-10-22T15:31:33.135Z</td>\n",
       "      <td>https://randomuser.me/api/portraits/women/79.jpg</td>\n",
       "    </tr>\n",
       "    <tr>\n",
       "      <th>4</th>\n",
       "      <td>Oona Hamalainen</td>\n",
       "      <td>female</td>\n",
       "      <td>Eckerö</td>\n",
       "      <td>Central Ostrobothnia</td>\n",
       "      <td>oona.hamalainen@example.com</td>\n",
       "      <td>1980-11-29T11:42:49.093Z</td>\n",
       "      <td>https://randomuser.me/api/portraits/women/57.jpg</td>\n",
       "    </tr>\n",
       "    <tr>\n",
       "      <th>5</th>\n",
       "      <td>James Martin</td>\n",
       "      <td>male</td>\n",
       "      <td>Upper Hutt</td>\n",
       "      <td>Manawatu-Wanganui</td>\n",
       "      <td>james.martin@example.com</td>\n",
       "      <td>1979-10-31T03:50:47.987Z</td>\n",
       "      <td>https://randomuser.me/api/portraits/men/46.jpg</td>\n",
       "    </tr>\n",
       "    <tr>\n",
       "      <th>6</th>\n",
       "      <td>Michael Eisner</td>\n",
       "      <td>male</td>\n",
       "      <td>Pasewalk</td>\n",
       "      <td>Nordrhein-Westfalen</td>\n",
       "      <td>michael.eisner@example.com</td>\n",
       "      <td>1968-04-26T21:50:40.668Z</td>\n",
       "      <td>https://randomuser.me/api/portraits/men/34.jpg</td>\n",
       "    </tr>\n",
       "    <tr>\n",
       "      <th>7</th>\n",
       "      <td>Melvin Washington</td>\n",
       "      <td>male</td>\n",
       "      <td>Mesa</td>\n",
       "      <td>Wyoming</td>\n",
       "      <td>melvin.washington@example.com</td>\n",
       "      <td>1979-01-24T17:28:40.339Z</td>\n",
       "      <td>https://randomuser.me/api/portraits/men/66.jpg</td>\n",
       "    </tr>\n",
       "    <tr>\n",
       "      <th>8</th>\n",
       "      <td>Brooklyn Hughes</td>\n",
       "      <td>female</td>\n",
       "      <td>Taupo</td>\n",
       "      <td>Waikato</td>\n",
       "      <td>brooklyn.hughes@example.com</td>\n",
       "      <td>1970-07-06T03:06:39.420Z</td>\n",
       "      <td>https://randomuser.me/api/portraits/women/22.jpg</td>\n",
       "    </tr>\n",
       "    <tr>\n",
       "      <th>9</th>\n",
       "      <td>Antoine Ma</td>\n",
       "      <td>male</td>\n",
       "      <td>Stirling</td>\n",
       "      <td>Prince Edward Island</td>\n",
       "      <td>antoine.ma@example.com</td>\n",
       "      <td>1968-11-03T20:45:40.636Z</td>\n",
       "      <td>https://randomuser.me/api/portraits/men/0.jpg</td>\n",
       "    </tr>\n",
       "  </tbody>\n",
       "</table>\n",
       "</div>"
      ],
      "text/plain": [
       "               Name  Gender               City                  State  \\\n",
       "0          Juan Vega    male  Alcalá de Henares  Comunidad Valenciana   \n",
       "1        Rose Lavoie  female       Fountainbleu      British Columbia   \n",
       "2        سپهر کامروا    male              زنجان               هرمزگان   \n",
       "3        Nella Remes  female           Myrskylä        Finland Proper   \n",
       "4    Oona Hamalainen  female             Eckerö  Central Ostrobothnia   \n",
       "5       James Martin    male         Upper Hutt     Manawatu-Wanganui   \n",
       "6     Michael Eisner    male           Pasewalk   Nordrhein-Westfalen   \n",
       "7  Melvin Washington    male               Mesa               Wyoming   \n",
       "8    Brooklyn Hughes  female              Taupo               Waikato   \n",
       "9         Antoine Ma    male           Stirling  Prince Edward Island   \n",
       "\n",
       "                           Email                       DoB  \\\n",
       "0          juan.vega@example.com  1955-04-10T03:52:02.571Z   \n",
       "1        rose.lavoie@example.com  1965-06-10T23:46:02.822Z   \n",
       "2         sphr.khmrw@example.com  1994-11-19T07:23:16.866Z   \n",
       "3        nella.remes@example.com  1984-10-22T15:31:33.135Z   \n",
       "4    oona.hamalainen@example.com  1980-11-29T11:42:49.093Z   \n",
       "5       james.martin@example.com  1979-10-31T03:50:47.987Z   \n",
       "6     michael.eisner@example.com  1968-04-26T21:50:40.668Z   \n",
       "7  melvin.washington@example.com  1979-01-24T17:28:40.339Z   \n",
       "8    brooklyn.hughes@example.com  1970-07-06T03:06:39.420Z   \n",
       "9         antoine.ma@example.com  1968-11-03T20:45:40.636Z   \n",
       "\n",
       "                                            Picture  \n",
       "0    https://randomuser.me/api/portraits/men/74.jpg  \n",
       "1  https://randomuser.me/api/portraits/women/84.jpg  \n",
       "2    https://randomuser.me/api/portraits/men/48.jpg  \n",
       "3  https://randomuser.me/api/portraits/women/79.jpg  \n",
       "4  https://randomuser.me/api/portraits/women/57.jpg  \n",
       "5    https://randomuser.me/api/portraits/men/46.jpg  \n",
       "6    https://randomuser.me/api/portraits/men/34.jpg  \n",
       "7    https://randomuser.me/api/portraits/men/66.jpg  \n",
       "8  https://randomuser.me/api/portraits/women/22.jpg  \n",
       "9     https://randomuser.me/api/portraits/men/0.jpg  "
      ]
     },
     "execution_count": 17,
     "metadata": {},
     "output_type": "execute_result"
    }
   ],
   "source": [
    "df"
   ]
  },
  {
   "cell_type": "markdown",
   "metadata": {},
   "source": [
    "### Ejemplo 2: Fruityvice API\n",
    "Api para consultar informacion y caracteristicas de diferentes tipos de frutas"
   ]
  },
  {
   "cell_type": "code",
   "execution_count": 21,
   "metadata": {},
   "outputs": [],
   "source": [
    "import requests\n",
    "import json"
   ]
  },
  {
   "cell_type": "code",
   "execution_count": null,
   "metadata": {},
   "outputs": [],
   "source": [
    "\n",
    "# URL = \"https://web.archive.org/web/20240929211114/https://fruityvice.com/api/fruit/all\"\n",
    "\n",
    "# Consulta de api mediante URL con timeout\n",
    "try:\n",
    "\tdata = requests.get(\"https://web.archive.org/web/20240929211114/https://fruityvice.com/api/fruit/all\", timeout=10)\n",
    "\tdata.raise_for_status()  \n",
    "except requests.exceptions.RequestException as e:\n",
    "\tprint(f\"Error: {e}\")"
   ]
  },
  {
   "cell_type": "code",
   "execution_count": 25,
   "metadata": {},
   "outputs": [
    {
     "data": {
      "text/plain": [
       "'[{\"name\":\"Persimmon\",\"id\":52,\"family\":\"Ebenaceae\",\"order\":\"Rosales\",\"genus\":\"Diospyros\",\"nutritions\":{\"calories\":81,\"fat\":0.0,\"sugar\":18.0,\"carbohydrates\":18.0,\"protein\":0.0}},{\"name\":\"Strawberry\",\"id\":3,\"family\":\"Rosaceae\",\"order\":\"Rosales\",\"genus\":\"Fragaria\",\"nutritions\":{\"calories\":29,\"fat\":0.4,\"sugar\":5.4,\"carbohydrates\":5.5,\"protein\":0.8}},{\"name\":\"Banana\",\"id\":1,\"family\":\"Musaceae\",\"order\":\"Zingiberales\",\"genus\":\"Musa\",\"nutritions\":{\"calories\":96,\"fat\":0.2,\"sugar\":17.2,\"carbohydrates\":22.0,\"protein\":1.0}},{\"name\":\"Tomato\",\"id\":5,\"family\":\"Solanaceae\",\"order\":\"Solanales\",\"genus\":\"Solanum\",\"nutritions\":{\"calories\":74,\"fat\":0.2,\"sugar\":2.6,\"carbohydrates\":3.9,\"protein\":0.9}},{\"name\":\"Pear\",\"id\":4,\"family\":\"Rosaceae\",\"order\":\"Rosales\",\"genus\":\"Pyrus\",\"nutritions\":{\"calories\":57,\"fat\":0.1,\"sugar\":10.0,\"carbohydrates\":15.0,\"protein\":0.4}},{\"name\":\"Durian\",\"id\":60,\"family\":\"Malvaceae\",\"order\":\"Malvales\",\"genus\":\"Durio\",\"nutritions\":{\"calories\":147,\"fat\":5.3,\"sugar\":6.75,\"carbohydrates\":27.1,\"protein\":1.5}},{\"name\":\"Blackberry\",\"id\":64,\"family\":\"Rosaceae\",\"order\":\"Rosales\",\"genus\":\"Rubus\",\"nutritions\":{\"calories\":40,\"fat\":0.4,\"sugar\":4.5,\"carbohydrates\":9.0,\"protein\":1.3}},{\"name\":\"Lingonberry\",\"id\":65,\"family\":\"Ericaceae\",\"order\":\"Ericales\",\"genus\":\"Vaccinium\",\"nutritions\":{\"calories\":50,\"fat\":0.34,\"sugar\":5.74,\"carbohydrates\":11.3,\"protein\":0.75}},{\"name\":\"Kiwi\",\"id\":66,\"family\":\"Actinidiaceae\",\"order\":\"Struthioniformes\",\"genus\":\"Apteryx\",\"nutritions\":{\"calories\":61,\"fat\":0.5,\"sugar\":9.0,\"carbohydrates\":15.0,\"protein\":1.1}},{\"name\":\"Lychee\",\"id\":67,\"family\":\"Sapindaceae\",\"order\":\"Sapindales\",\"genus\":\"Litchi\",\"nutritions\":{\"calories\":66,\"fat\":0.44,\"sugar\":15.0,\"carbohydrates\":17.0,\"protein\":0.8}},{\"name\":\"Pineapple\",\"id\":10,\"family\":\"Bromeliaceae\",\"order\":\"Poales\",\"genus\":\"Ananas\",\"nutritions\":{\"calories\":50,\"fat\":0.12,\"sugar\":9.85,\"carbohydrates\":13.12,\"protein\":0.54}},{\"name\":\"Fig\",\"id\":68,\"family\":\"Moraceae\",\"order\":\"Rosales\",\"genus\":\"Ficus\",\"nutritions\":{\"calories\":74,\"fat\":0.3,\"sugar\":16.0,\"carbohydrates\":19.0,\"protein\":0.8}},{\"name\":\"Gooseberry\",\"id\":69,\"family\":\"Grossulariaceae\",\"order\":\"Saxifragales\",\"genus\":\"Ribes\",\"nutritions\":{\"calories\":44,\"fat\":0.6,\"sugar\":0.0,\"carbohydrates\":10.0,\"protein\":0.9}},{\"name\":\"Passionfruit\",\"id\":70,\"family\":\"Passifloraceae\",\"order\":\"Malpighiales\",\"genus\":\"Passiflora\",\"nutritions\":{\"calories\":97,\"fat\":0.7,\"sugar\":11.2,\"carbohydrates\":22.4,\"protein\":2.2}},{\"name\":\"Plum\",\"id\":71,\"family\":\"Rosaceae\",\"order\":\"Rosales\",\"genus\":\"Prunus\",\"nutritions\":{\"calories\":46,\"fat\":0.28,\"sugar\":9.92,\"carbohydrates\":11.4,\"protein\":0.7}},{\"name\":\"Orange\",\"id\":2,\"family\":\"Rutaceae\",\"order\":\"Sapindales\",\"genus\":\"Citrus\",\"nutritions\":{\"calories\":43,\"fat\":0.2,\"sugar\":8.2,\"carbohydrates\":8.3,\"protein\":1.0}},{\"name\":\"GreenApple\",\"id\":72,\"family\":\"Rosaceae\",\"order\":\"Rosales\",\"genus\":\"Malus\",\"nutritions\":{\"calories\":21,\"fat\":0.1,\"sugar\":6.4,\"carbohydrates\":3.1,\"protein\":0.4}},{\"name\":\"Raspberry\",\"id\":23,\"family\":\"Rosaceae\",\"order\":\"Rosales\",\"genus\":\"Rubus\",\"nutritions\":{\"calories\":53,\"fat\":0.7,\"sugar\":4.4,\"carbohydrates\":12.0,\"protein\":1.2}},{\"name\":\"Watermelon\",\"id\":25,\"family\":\"Cucurbitaceae\",\"order\":\"Cucurbitales\",\"genus\":\"Citrullus\",\"nutritions\":{\"calories\":30,\"fat\":0.2,\"sugar\":6.0,\"carbohydrates\":8.0,\"protein\":0.6}},{\"name\":\"Lemon\",\"id\":26,\"family\":\"Rutaceae\",\"order\":\"Sapindales\",\"genus\":\"Citrus\",\"nutritions\":{\"calories\":29,\"fat\":0.3,\"sugar\":2.5,\"carbohydrates\":9.0,\"protein\":1.1}},{\"name\":\"Mango\",\"id\":27,\"family\":\"Anacardiaceae\",\"order\":\"Sapindales\",\"genus\":\"Mangifera\",\"nutritions\":{\"calories\":60,\"fat\":0.38,\"sugar\":13.7,\"carbohydrates\":15.0,\"protein\":0.82}},{\"name\":\"Blueberry\",\"id\":33,\"family\":\"Rosaceae\",\"order\":\"Rosales\",\"genus\":\"Fragaria\",\"nutritions\":{\"calories\":29,\"fat\":0.4,\"sugar\":5.4,\"carbohydrates\":5.5,\"protein\":0.0}},{\"name\":\"Apple\",\"id\":6,\"family\":\"Rosaceae\",\"order\":\"Rosales\",\"genus\":\"Malus\",\"nutritions\":{\"calories\":52,\"fat\":0.4,\"sugar\":10.3,\"carbohydrates\":11.4,\"protein\":0.3}},{\"name\":\"Guava\",\"id\":37,\"family\":\"Myrtaceae\",\"order\":\"Myrtales\",\"genus\":\"Psidium\",\"nutritions\":{\"calories\":68,\"fat\":1.0,\"sugar\":9.0,\"carbohydrates\":14.0,\"protein\":2.6}},{\"name\":\"Apricot\",\"id\":35,\"family\":\"Rosaceae\",\"order\":\"Rosales\",\"genus\":\"Prunus\",\"nutritions\":{\"calories\":15,\"fat\":0.1,\"sugar\":3.2,\"carbohydrates\":3.9,\"protein\":0.5}},{\"name\":\"Melon\",\"id\":41,\"family\":\"Cucurbitaceae\",\"order\":\"Cucurbitaceae\",\"genus\":\"Cucumis\",\"nutritions\":{\"calories\":34,\"fat\":0.0,\"sugar\":8.0,\"carbohydrates\":8.0,\"protein\":0.0}},{\"name\":\"Tangerine\",\"id\":77,\"family\":\"Rutaceae\",\"order\":\"Sapindales\",\"genus\":\"Citrus\",\"nutritions\":{\"calories\":45,\"fat\":0.4,\"sugar\":9.1,\"carbohydrates\":8.3,\"protein\":0.0}},{\"name\":\"Pitahaya\",\"id\":78,\"family\":\"Cactaceae\",\"order\":\"Caryophyllales\",\"genus\":\"Cactaceae\",\"nutritions\":{\"calories\":36,\"fat\":0.4,\"sugar\":3.0,\"carbohydrates\":7.0,\"protein\":1.0}},{\"name\":\"Lime\",\"id\":44,\"family\":\"Rutaceae\",\"order\":\"Sapindales\",\"genus\":\"Citrus\",\"nutritions\":{\"calories\":25,\"fat\":0.1,\"sugar\":1.7,\"carbohydrates\":8.4,\"protein\":0.3}},{\"name\":\"Pomegranate\",\"id\":79,\"family\":\"Lythraceae\",\"order\":\"Myrtales\",\"genus\":\"Punica\",\"nutritions\":{\"calories\":83,\"fat\":1.2,\"sugar\":13.7,\"carbohydrates\":18.7,\"protein\":1.7}},{\"name\":\"Dragonfruit\",\"id\":80,\"family\":\"Cactaceae\",\"order\":\"Caryophyllales\",\"genus\":\"Selenicereus\",\"nutritions\":{\"calories\":60,\"fat\":1.5,\"sugar\":8.0,\"carbohydrates\":9.0,\"protein\":9.0}},{\"name\":\"Grape\",\"id\":81,\"family\":\"Vitaceae\",\"order\":\"Vitales\",\"genus\":\"Vitis\",\"nutritions\":{\"calories\":69,\"fat\":0.16,\"sugar\":16.0,\"carbohydrates\":18.1,\"protein\":0.72}},{\"name\":\"Morus\",\"id\":82,\"family\":\"Moraceae\",\"order\":\"Rosales\",\"genus\":\"Morus\",\"nutritions\":{\"calories\":43,\"fat\":0.39,\"sugar\":8.1,\"carbohydrates\":9.8,\"protein\":1.44}},{\"name\":\"Feijoa\",\"id\":76,\"family\":\"Myrtaceae\",\"order\":\"Myrtoideae\",\"genus\":\"Sellowiana\",\"nutritions\":{\"calories\":44,\"fat\":0.4,\"sugar\":3.0,\"carbohydrates\":8.0,\"protein\":0.6}},{\"name\":\"Avocado\",\"id\":84,\"family\":\"Lauraceae\",\"order\":\"Laurales\",\"genus\":\"Persea\",\"nutritions\":{\"calories\":160,\"fat\":14.66,\"sugar\":0.66,\"carbohydrates\":8.53,\"protein\":2.0}},{\"name\":\"Kiwifruit\",\"id\":85,\"family\":\"Actinidiaceae\",\"order\":\"Ericales\",\"genus\":\"Actinidia\",\"nutritions\":{\"calories\":61,\"fat\":0.5,\"sugar\":8.9,\"carbohydrates\":14.6,\"protein\":1.14}},{\"name\":\"Cranberry\",\"id\":87,\"family\":\"Ericaceae\",\"order\":\"Ericales\",\"genus\":\"Vaccinium\",\"nutritions\":{\"calories\":46,\"fat\":0.1,\"sugar\":4.0,\"carbohydrates\":12.2,\"protein\":0.4}},{\"name\":\"Cherry\",\"id\":9,\"family\":\"Rosaceae\",\"order\":\"Rosales\",\"genus\":\"Prunus\",\"nutritions\":{\"calories\":50,\"fat\":0.3,\"sugar\":8.0,\"carbohydrates\":12.0,\"protein\":1.0}},{\"name\":\"Peach\",\"id\":86,\"family\":\"Rosaceae\",\"order\":\"Rosales\",\"genus\":\"Prunus\",\"nutritions\":{\"calories\":39,\"fat\":0.25,\"sugar\":8.4,\"carbohydrates\":9.5,\"protein\":0.9}},{\"name\":\"Jackfruit\",\"id\":94,\"family\":\"Moraceae\",\"order\":\"Rosales\",\"genus\":\"Artocarpus\",\"nutritions\":{\"calories\":95,\"fat\":0.0,\"sugar\":19.1,\"carbohydrates\":23.2,\"protein\":1.72}},{\"name\":\"Horned Melon\",\"id\":95,\"family\":\"Cucurbitaceae\",\"order\":\"Cucurbitales\",\"genus\":\"Cucumis\",\"nutritions\":{\"calories\":44,\"fat\":1.26,\"sugar\":0.5,\"carbohydrates\":7.56,\"protein\":1.78}},{\"name\":\"Hazelnut\",\"id\":96,\"family\":\"Betulaceae\",\"order\":\"Fagales\",\"genus\":\"Corylus\",\"nutritions\":{\"calories\":628,\"fat\":61.0,\"sugar\":4.3,\"carbohydrates\":17.0,\"protein\":15.0}},{\"name\":\"Pomelo\",\"id\":98,\"family\":\"Rutaceae\",\"order\":\"Sapindales\",\"genus\":\"Citrus\",\"nutritions\":{\"calories\":37,\"fat\":0.0,\"sugar\":8.5,\"carbohydrates\":9.67,\"protein\":0.82}},{\"name\":\"Mangosteen\",\"id\":99,\"family\":\"Clusiaceae\",\"order\":\"Malpighiales\",\"genus\":\"Garcinia\",\"nutritions\":{\"calories\":73,\"fat\":0.58,\"sugar\":16.11,\"carbohydrates\":17.91,\"protein\":0.41}},{\"name\":\"Pumpkin\",\"id\":100,\"family\":\"Cucurbitaceae\",\"order\":\"Cucurbitales\",\"genus\":\"Cucurbita\",\"nutritions\":{\"calories\":25,\"fat\":0.3,\"sugar\":3.3,\"carbohydrates\":4.6,\"protein\":1.1}},{\"name\":\"Japanese Persimmon\",\"id\":101,\"family\":\" Ebenaceae\",\"order\":\" Ericales\",\"genus\":\"Diospyros\",\"nutritions\":{\"calories\":70,\"fat\":0.2,\"sugar\":13.0,\"carbohydrates\":19.0,\"protein\":0.6}},{\"name\":\"Papaya\",\"id\":42,\"family\":\"Caricaceae\",\"order\":\"Brassicales\",\"genus\":\"Carica\",\"nutritions\":{\"calories\":39,\"fat\":0.3,\"sugar\":4.4,\"carbohydrates\":5.8,\"protein\":0.5}},{\"name\":\"Annona\",\"id\":103,\"family\":\"Annonaceae\",\"order\":\"Rosales\",\"genus\":\"Annonas\",\"nutritions\":{\"calories\":92,\"fat\":0.29,\"sugar\":3.4,\"carbohydrates\":19.1,\"protein\":1.5}},{\"name\":\"Ceylon Gooseberry\",\"id\":104,\"family\":\"Salicaceae\",\"order\":\"Malpighiales\",\"genus\":\"Dovyalis\",\"nutritions\":{\"calories\":47,\"fat\":0.3,\"sugar\":8.1,\"carbohydrates\":9.6,\"protein\":1.2}}]'"
      ]
     },
     "execution_count": 25,
     "metadata": {},
     "output_type": "execute_result"
    }
   ],
   "source": [
    "data.text"
   ]
  },
  {
   "cell_type": "code",
   "execution_count": 32,
   "metadata": {},
   "outputs": [
    {
     "name": "stdout",
     "output_type": "stream",
     "text": [
      "[{'name': 'Persimmon', 'id': 52, 'family': 'Ebenaceae', 'order': 'Rosales', 'genus': 'Diospyros', 'nutritions': {'calories': 81, 'fat': 0.0, 'sugar': 18.0, 'carbohydrates': 18.0, 'protein': 0.0}}, {'name': 'Strawberry', 'id': 3, 'family': 'Rosaceae', 'order': 'Rosales', 'genus': 'Fragaria', 'nutritions': {'calories': 29, 'fat': 0.4, 'sugar': 5.4, 'carbohydrates': 5.5, 'protein': 0.8}}, {'name': 'Banana', 'id': 1, 'family': 'Musaceae', 'order': 'Zingiberales', 'genus': 'Musa', 'nutritions': {'calories': 96, 'fat': 0.2, 'sugar': 17.2, 'carbohydrates': 22.0, 'protein': 1.0}}, {'name': 'Tomato', 'id': 5, 'family': 'Solanaceae', 'order': 'Solanales', 'genus': 'Solanum', 'nutritions': {'calories': 74, 'fat': 0.2, 'sugar': 2.6, 'carbohydrates': 3.9, 'protein': 0.9}}, {'name': 'Pear', 'id': 4, 'family': 'Rosaceae', 'order': 'Rosales', 'genus': 'Pyrus', 'nutritions': {'calories': 57, 'fat': 0.1, 'sugar': 10.0, 'carbohydrates': 15.0, 'protein': 0.4}}, {'name': 'Durian', 'id': 60, 'family': 'Malvaceae', 'order': 'Malvales', 'genus': 'Durio', 'nutritions': {'calories': 147, 'fat': 5.3, 'sugar': 6.75, 'carbohydrates': 27.1, 'protein': 1.5}}, {'name': 'Blackberry', 'id': 64, 'family': 'Rosaceae', 'order': 'Rosales', 'genus': 'Rubus', 'nutritions': {'calories': 40, 'fat': 0.4, 'sugar': 4.5, 'carbohydrates': 9.0, 'protein': 1.3}}, {'name': 'Lingonberry', 'id': 65, 'family': 'Ericaceae', 'order': 'Ericales', 'genus': 'Vaccinium', 'nutritions': {'calories': 50, 'fat': 0.34, 'sugar': 5.74, 'carbohydrates': 11.3, 'protein': 0.75}}, {'name': 'Kiwi', 'id': 66, 'family': 'Actinidiaceae', 'order': 'Struthioniformes', 'genus': 'Apteryx', 'nutritions': {'calories': 61, 'fat': 0.5, 'sugar': 9.0, 'carbohydrates': 15.0, 'protein': 1.1}}, {'name': 'Lychee', 'id': 67, 'family': 'Sapindaceae', 'order': 'Sapindales', 'genus': 'Litchi', 'nutritions': {'calories': 66, 'fat': 0.44, 'sugar': 15.0, 'carbohydrates': 17.0, 'protein': 0.8}}, {'name': 'Pineapple', 'id': 10, 'family': 'Bromeliaceae', 'order': 'Poales', 'genus': 'Ananas', 'nutritions': {'calories': 50, 'fat': 0.12, 'sugar': 9.85, 'carbohydrates': 13.12, 'protein': 0.54}}, {'name': 'Fig', 'id': 68, 'family': 'Moraceae', 'order': 'Rosales', 'genus': 'Ficus', 'nutritions': {'calories': 74, 'fat': 0.3, 'sugar': 16.0, 'carbohydrates': 19.0, 'protein': 0.8}}, {'name': 'Gooseberry', 'id': 69, 'family': 'Grossulariaceae', 'order': 'Saxifragales', 'genus': 'Ribes', 'nutritions': {'calories': 44, 'fat': 0.6, 'sugar': 0.0, 'carbohydrates': 10.0, 'protein': 0.9}}, {'name': 'Passionfruit', 'id': 70, 'family': 'Passifloraceae', 'order': 'Malpighiales', 'genus': 'Passiflora', 'nutritions': {'calories': 97, 'fat': 0.7, 'sugar': 11.2, 'carbohydrates': 22.4, 'protein': 2.2}}, {'name': 'Plum', 'id': 71, 'family': 'Rosaceae', 'order': 'Rosales', 'genus': 'Prunus', 'nutritions': {'calories': 46, 'fat': 0.28, 'sugar': 9.92, 'carbohydrates': 11.4, 'protein': 0.7}}, {'name': 'Orange', 'id': 2, 'family': 'Rutaceae', 'order': 'Sapindales', 'genus': 'Citrus', 'nutritions': {'calories': 43, 'fat': 0.2, 'sugar': 8.2, 'carbohydrates': 8.3, 'protein': 1.0}}, {'name': 'GreenApple', 'id': 72, 'family': 'Rosaceae', 'order': 'Rosales', 'genus': 'Malus', 'nutritions': {'calories': 21, 'fat': 0.1, 'sugar': 6.4, 'carbohydrates': 3.1, 'protein': 0.4}}, {'name': 'Raspberry', 'id': 23, 'family': 'Rosaceae', 'order': 'Rosales', 'genus': 'Rubus', 'nutritions': {'calories': 53, 'fat': 0.7, 'sugar': 4.4, 'carbohydrates': 12.0, 'protein': 1.2}}, {'name': 'Watermelon', 'id': 25, 'family': 'Cucurbitaceae', 'order': 'Cucurbitales', 'genus': 'Citrullus', 'nutritions': {'calories': 30, 'fat': 0.2, 'sugar': 6.0, 'carbohydrates': 8.0, 'protein': 0.6}}, {'name': 'Lemon', 'id': 26, 'family': 'Rutaceae', 'order': 'Sapindales', 'genus': 'Citrus', 'nutritions': {'calories': 29, 'fat': 0.3, 'sugar': 2.5, 'carbohydrates': 9.0, 'protein': 1.1}}, {'name': 'Mango', 'id': 27, 'family': 'Anacardiaceae', 'order': 'Sapindales', 'genus': 'Mangifera', 'nutritions': {'calories': 60, 'fat': 0.38, 'sugar': 13.7, 'carbohydrates': 15.0, 'protein': 0.82}}, {'name': 'Blueberry', 'id': 33, 'family': 'Rosaceae', 'order': 'Rosales', 'genus': 'Fragaria', 'nutritions': {'calories': 29, 'fat': 0.4, 'sugar': 5.4, 'carbohydrates': 5.5, 'protein': 0.0}}, {'name': 'Apple', 'id': 6, 'family': 'Rosaceae', 'order': 'Rosales', 'genus': 'Malus', 'nutritions': {'calories': 52, 'fat': 0.4, 'sugar': 10.3, 'carbohydrates': 11.4, 'protein': 0.3}}, {'name': 'Guava', 'id': 37, 'family': 'Myrtaceae', 'order': 'Myrtales', 'genus': 'Psidium', 'nutritions': {'calories': 68, 'fat': 1.0, 'sugar': 9.0, 'carbohydrates': 14.0, 'protein': 2.6}}, {'name': 'Apricot', 'id': 35, 'family': 'Rosaceae', 'order': 'Rosales', 'genus': 'Prunus', 'nutritions': {'calories': 15, 'fat': 0.1, 'sugar': 3.2, 'carbohydrates': 3.9, 'protein': 0.5}}, {'name': 'Melon', 'id': 41, 'family': 'Cucurbitaceae', 'order': 'Cucurbitaceae', 'genus': 'Cucumis', 'nutritions': {'calories': 34, 'fat': 0.0, 'sugar': 8.0, 'carbohydrates': 8.0, 'protein': 0.0}}, {'name': 'Tangerine', 'id': 77, 'family': 'Rutaceae', 'order': 'Sapindales', 'genus': 'Citrus', 'nutritions': {'calories': 45, 'fat': 0.4, 'sugar': 9.1, 'carbohydrates': 8.3, 'protein': 0.0}}, {'name': 'Pitahaya', 'id': 78, 'family': 'Cactaceae', 'order': 'Caryophyllales', 'genus': 'Cactaceae', 'nutritions': {'calories': 36, 'fat': 0.4, 'sugar': 3.0, 'carbohydrates': 7.0, 'protein': 1.0}}, {'name': 'Lime', 'id': 44, 'family': 'Rutaceae', 'order': 'Sapindales', 'genus': 'Citrus', 'nutritions': {'calories': 25, 'fat': 0.1, 'sugar': 1.7, 'carbohydrates': 8.4, 'protein': 0.3}}, {'name': 'Pomegranate', 'id': 79, 'family': 'Lythraceae', 'order': 'Myrtales', 'genus': 'Punica', 'nutritions': {'calories': 83, 'fat': 1.2, 'sugar': 13.7, 'carbohydrates': 18.7, 'protein': 1.7}}, {'name': 'Dragonfruit', 'id': 80, 'family': 'Cactaceae', 'order': 'Caryophyllales', 'genus': 'Selenicereus', 'nutritions': {'calories': 60, 'fat': 1.5, 'sugar': 8.0, 'carbohydrates': 9.0, 'protein': 9.0}}, {'name': 'Grape', 'id': 81, 'family': 'Vitaceae', 'order': 'Vitales', 'genus': 'Vitis', 'nutritions': {'calories': 69, 'fat': 0.16, 'sugar': 16.0, 'carbohydrates': 18.1, 'protein': 0.72}}, {'name': 'Morus', 'id': 82, 'family': 'Moraceae', 'order': 'Rosales', 'genus': 'Morus', 'nutritions': {'calories': 43, 'fat': 0.39, 'sugar': 8.1, 'carbohydrates': 9.8, 'protein': 1.44}}, {'name': 'Feijoa', 'id': 76, 'family': 'Myrtaceae', 'order': 'Myrtoideae', 'genus': 'Sellowiana', 'nutritions': {'calories': 44, 'fat': 0.4, 'sugar': 3.0, 'carbohydrates': 8.0, 'protein': 0.6}}, {'name': 'Avocado', 'id': 84, 'family': 'Lauraceae', 'order': 'Laurales', 'genus': 'Persea', 'nutritions': {'calories': 160, 'fat': 14.66, 'sugar': 0.66, 'carbohydrates': 8.53, 'protein': 2.0}}, {'name': 'Kiwifruit', 'id': 85, 'family': 'Actinidiaceae', 'order': 'Ericales', 'genus': 'Actinidia', 'nutritions': {'calories': 61, 'fat': 0.5, 'sugar': 8.9, 'carbohydrates': 14.6, 'protein': 1.14}}, {'name': 'Cranberry', 'id': 87, 'family': 'Ericaceae', 'order': 'Ericales', 'genus': 'Vaccinium', 'nutritions': {'calories': 46, 'fat': 0.1, 'sugar': 4.0, 'carbohydrates': 12.2, 'protein': 0.4}}, {'name': 'Cherry', 'id': 9, 'family': 'Rosaceae', 'order': 'Rosales', 'genus': 'Prunus', 'nutritions': {'calories': 50, 'fat': 0.3, 'sugar': 8.0, 'carbohydrates': 12.0, 'protein': 1.0}}, {'name': 'Peach', 'id': 86, 'family': 'Rosaceae', 'order': 'Rosales', 'genus': 'Prunus', 'nutritions': {'calories': 39, 'fat': 0.25, 'sugar': 8.4, 'carbohydrates': 9.5, 'protein': 0.9}}, {'name': 'Jackfruit', 'id': 94, 'family': 'Moraceae', 'order': 'Rosales', 'genus': 'Artocarpus', 'nutritions': {'calories': 95, 'fat': 0.0, 'sugar': 19.1, 'carbohydrates': 23.2, 'protein': 1.72}}, {'name': 'Horned Melon', 'id': 95, 'family': 'Cucurbitaceae', 'order': 'Cucurbitales', 'genus': 'Cucumis', 'nutritions': {'calories': 44, 'fat': 1.26, 'sugar': 0.5, 'carbohydrates': 7.56, 'protein': 1.78}}, {'name': 'Hazelnut', 'id': 96, 'family': 'Betulaceae', 'order': 'Fagales', 'genus': 'Corylus', 'nutritions': {'calories': 628, 'fat': 61.0, 'sugar': 4.3, 'carbohydrates': 17.0, 'protein': 15.0}}, {'name': 'Pomelo', 'id': 98, 'family': 'Rutaceae', 'order': 'Sapindales', 'genus': 'Citrus', 'nutritions': {'calories': 37, 'fat': 0.0, 'sugar': 8.5, 'carbohydrates': 9.67, 'protein': 0.82}}, {'name': 'Mangosteen', 'id': 99, 'family': 'Clusiaceae', 'order': 'Malpighiales', 'genus': 'Garcinia', 'nutritions': {'calories': 73, 'fat': 0.58, 'sugar': 16.11, 'carbohydrates': 17.91, 'protein': 0.41}}, {'name': 'Pumpkin', 'id': 100, 'family': 'Cucurbitaceae', 'order': 'Cucurbitales', 'genus': 'Cucurbita', 'nutritions': {'calories': 25, 'fat': 0.3, 'sugar': 3.3, 'carbohydrates': 4.6, 'protein': 1.1}}, {'name': 'Japanese Persimmon', 'id': 101, 'family': ' Ebenaceae', 'order': ' Ericales', 'genus': 'Diospyros', 'nutritions': {'calories': 70, 'fat': 0.2, 'sugar': 13.0, 'carbohydrates': 19.0, 'protein': 0.6}}, {'name': 'Papaya', 'id': 42, 'family': 'Caricaceae', 'order': 'Brassicales', 'genus': 'Carica', 'nutritions': {'calories': 39, 'fat': 0.3, 'sugar': 4.4, 'carbohydrates': 5.8, 'protein': 0.5}}, {'name': 'Annona', 'id': 103, 'family': 'Annonaceae', 'order': 'Rosales', 'genus': 'Annonas', 'nutritions': {'calories': 92, 'fat': 0.29, 'sugar': 3.4, 'carbohydrates': 19.1, 'protein': 1.5}}, {'name': 'Ceylon Gooseberry', 'id': 104, 'family': 'Salicaceae', 'order': 'Malpighiales', 'genus': 'Dovyalis', 'nutritions': {'calories': 47, 'fat': 0.3, 'sugar': 8.1, 'carbohydrates': 9.6, 'protein': 1.2}}]\n"
     ]
    }
   ],
   "source": [
    "results = json.loads(data.text)\n",
    "print(results)\n",
    "# Convertir el archivo Json a dataframe\n",
    "tabla1 = pd.DataFrame(results)"
   ]
  },
  {
   "cell_type": "code",
   "execution_count": 34,
   "metadata": {},
   "outputs": [
    {
     "data": {
      "text/html": [
       "<div>\n",
       "<style scoped>\n",
       "    .dataframe tbody tr th:only-of-type {\n",
       "        vertical-align: middle;\n",
       "    }\n",
       "\n",
       "    .dataframe tbody tr th {\n",
       "        vertical-align: top;\n",
       "    }\n",
       "\n",
       "    .dataframe thead th {\n",
       "        text-align: right;\n",
       "    }\n",
       "</style>\n",
       "<table border=\"1\" class=\"dataframe\">\n",
       "  <thead>\n",
       "    <tr style=\"text-align: right;\">\n",
       "      <th></th>\n",
       "      <th>name</th>\n",
       "      <th>id</th>\n",
       "      <th>family</th>\n",
       "      <th>order</th>\n",
       "      <th>genus</th>\n",
       "      <th>nutritions.calories</th>\n",
       "      <th>nutritions.fat</th>\n",
       "      <th>nutritions.sugar</th>\n",
       "      <th>nutritions.carbohydrates</th>\n",
       "      <th>nutritions.protein</th>\n",
       "    </tr>\n",
       "  </thead>\n",
       "  <tbody>\n",
       "    <tr>\n",
       "      <th>0</th>\n",
       "      <td>Persimmon</td>\n",
       "      <td>52</td>\n",
       "      <td>Ebenaceae</td>\n",
       "      <td>Rosales</td>\n",
       "      <td>Diospyros</td>\n",
       "      <td>81</td>\n",
       "      <td>0.00</td>\n",
       "      <td>18.00</td>\n",
       "      <td>18.0</td>\n",
       "      <td>0.00</td>\n",
       "    </tr>\n",
       "    <tr>\n",
       "      <th>1</th>\n",
       "      <td>Strawberry</td>\n",
       "      <td>3</td>\n",
       "      <td>Rosaceae</td>\n",
       "      <td>Rosales</td>\n",
       "      <td>Fragaria</td>\n",
       "      <td>29</td>\n",
       "      <td>0.40</td>\n",
       "      <td>5.40</td>\n",
       "      <td>5.5</td>\n",
       "      <td>0.80</td>\n",
       "    </tr>\n",
       "    <tr>\n",
       "      <th>2</th>\n",
       "      <td>Banana</td>\n",
       "      <td>1</td>\n",
       "      <td>Musaceae</td>\n",
       "      <td>Zingiberales</td>\n",
       "      <td>Musa</td>\n",
       "      <td>96</td>\n",
       "      <td>0.20</td>\n",
       "      <td>17.20</td>\n",
       "      <td>22.0</td>\n",
       "      <td>1.00</td>\n",
       "    </tr>\n",
       "    <tr>\n",
       "      <th>3</th>\n",
       "      <td>Tomato</td>\n",
       "      <td>5</td>\n",
       "      <td>Solanaceae</td>\n",
       "      <td>Solanales</td>\n",
       "      <td>Solanum</td>\n",
       "      <td>74</td>\n",
       "      <td>0.20</td>\n",
       "      <td>2.60</td>\n",
       "      <td>3.9</td>\n",
       "      <td>0.90</td>\n",
       "    </tr>\n",
       "    <tr>\n",
       "      <th>4</th>\n",
       "      <td>Pear</td>\n",
       "      <td>4</td>\n",
       "      <td>Rosaceae</td>\n",
       "      <td>Rosales</td>\n",
       "      <td>Pyrus</td>\n",
       "      <td>57</td>\n",
       "      <td>0.10</td>\n",
       "      <td>10.00</td>\n",
       "      <td>15.0</td>\n",
       "      <td>0.40</td>\n",
       "    </tr>\n",
       "    <tr>\n",
       "      <th>5</th>\n",
       "      <td>Durian</td>\n",
       "      <td>60</td>\n",
       "      <td>Malvaceae</td>\n",
       "      <td>Malvales</td>\n",
       "      <td>Durio</td>\n",
       "      <td>147</td>\n",
       "      <td>5.30</td>\n",
       "      <td>6.75</td>\n",
       "      <td>27.1</td>\n",
       "      <td>1.50</td>\n",
       "    </tr>\n",
       "    <tr>\n",
       "      <th>6</th>\n",
       "      <td>Blackberry</td>\n",
       "      <td>64</td>\n",
       "      <td>Rosaceae</td>\n",
       "      <td>Rosales</td>\n",
       "      <td>Rubus</td>\n",
       "      <td>40</td>\n",
       "      <td>0.40</td>\n",
       "      <td>4.50</td>\n",
       "      <td>9.0</td>\n",
       "      <td>1.30</td>\n",
       "    </tr>\n",
       "    <tr>\n",
       "      <th>7</th>\n",
       "      <td>Lingonberry</td>\n",
       "      <td>65</td>\n",
       "      <td>Ericaceae</td>\n",
       "      <td>Ericales</td>\n",
       "      <td>Vaccinium</td>\n",
       "      <td>50</td>\n",
       "      <td>0.34</td>\n",
       "      <td>5.74</td>\n",
       "      <td>11.3</td>\n",
       "      <td>0.75</td>\n",
       "    </tr>\n",
       "    <tr>\n",
       "      <th>8</th>\n",
       "      <td>Kiwi</td>\n",
       "      <td>66</td>\n",
       "      <td>Actinidiaceae</td>\n",
       "      <td>Struthioniformes</td>\n",
       "      <td>Apteryx</td>\n",
       "      <td>61</td>\n",
       "      <td>0.50</td>\n",
       "      <td>9.00</td>\n",
       "      <td>15.0</td>\n",
       "      <td>1.10</td>\n",
       "    </tr>\n",
       "    <tr>\n",
       "      <th>9</th>\n",
       "      <td>Lychee</td>\n",
       "      <td>67</td>\n",
       "      <td>Sapindaceae</td>\n",
       "      <td>Sapindales</td>\n",
       "      <td>Litchi</td>\n",
       "      <td>66</td>\n",
       "      <td>0.44</td>\n",
       "      <td>15.00</td>\n",
       "      <td>17.0</td>\n",
       "      <td>0.80</td>\n",
       "    </tr>\n",
       "  </tbody>\n",
       "</table>\n",
       "</div>"
      ],
      "text/plain": [
       "          name  id         family             order      genus  \\\n",
       "0    Persimmon  52      Ebenaceae           Rosales  Diospyros   \n",
       "1   Strawberry   3       Rosaceae           Rosales   Fragaria   \n",
       "2       Banana   1       Musaceae      Zingiberales       Musa   \n",
       "3       Tomato   5     Solanaceae         Solanales    Solanum   \n",
       "4         Pear   4       Rosaceae           Rosales      Pyrus   \n",
       "5       Durian  60      Malvaceae          Malvales      Durio   \n",
       "6   Blackberry  64       Rosaceae           Rosales      Rubus   \n",
       "7  Lingonberry  65      Ericaceae          Ericales  Vaccinium   \n",
       "8         Kiwi  66  Actinidiaceae  Struthioniformes    Apteryx   \n",
       "9       Lychee  67    Sapindaceae        Sapindales     Litchi   \n",
       "\n",
       "   nutritions.calories  nutritions.fat  nutritions.sugar  \\\n",
       "0                   81            0.00             18.00   \n",
       "1                   29            0.40              5.40   \n",
       "2                   96            0.20             17.20   \n",
       "3                   74            0.20              2.60   \n",
       "4                   57            0.10             10.00   \n",
       "5                  147            5.30              6.75   \n",
       "6                   40            0.40              4.50   \n",
       "7                   50            0.34              5.74   \n",
       "8                   61            0.50              9.00   \n",
       "9                   66            0.44             15.00   \n",
       "\n",
       "   nutritions.carbohydrates  nutritions.protein  \n",
       "0                      18.0                0.00  \n",
       "1                       5.5                0.80  \n",
       "2                      22.0                1.00  \n",
       "3                       3.9                0.90  \n",
       "4                      15.0                0.40  \n",
       "5                      27.1                1.50  \n",
       "6                       9.0                1.30  \n",
       "7                      11.3                0.75  \n",
       "8                      15.0                1.10  \n",
       "9                      17.0                0.80  "
      ]
     },
     "execution_count": 34,
     "metadata": {},
     "output_type": "execute_result"
    }
   ],
   "source": [
    "tabla2 = pd.json_normalize(results)\n",
    "tabla2.head(10)"
   ]
  },
  {
   "cell_type": "code",
   "execution_count": 47,
   "metadata": {},
   "outputs": [
    {
     "data": {
      "text/plain": [
       "('Rosaceae', 'Prunus')"
      ]
     },
     "execution_count": 47,
     "metadata": {},
     "output_type": "execute_result"
    }
   ],
   "source": [
    "# Extraer informacion del dataframe\n",
    "cherry = tabla2.loc[tabla2[\"name\"] == \"Cherry\"]\n",
    "(cherry.iloc[0]['family']) , (cherry.iloc[0]['genus']) #Extraccion de 2 datos por indice"
   ]
  },
  {
   "cell_type": "code",
   "execution_count": 51,
   "metadata": {},
   "outputs": [
    {
     "data": {
      "text/plain": [
       "('Musaceae', 1.0)"
      ]
     },
     "execution_count": 51,
     "metadata": {},
     "output_type": "execute_result"
    }
   ],
   "source": [
    "# Calorias encontradas en una banana\n",
    "banana = tabla2.loc[tabla2[\"name\"] == \"Banana\"]\n",
    "(banana.iloc[0]['family']), (banana.iloc[0]['nutritions.protein'])"
   ]
  },
  {
   "cell_type": "markdown",
   "metadata": {},
   "source": [
    "### Ejemplo 3: Official Joke API\n",
    "Api de chistes comicos"
   ]
  },
  {
   "cell_type": "code",
   "execution_count": null,
   "metadata": {},
   "outputs": [],
   "source": [
    "URL = \"https://official-joke-api.appspot.com/jokes/ten\"\n",
    "\n",
    "try:\n",
    "    data = requests.get(URL, timeout=30)\n",
    "    data.raise_for_status() #Lanza una excepcion por error HTTP\n",
    "except requests.exceptions.RequestException as e:\n",
    "    print(f\"Error: {e}\")"
   ]
  },
  {
   "cell_type": "code",
   "execution_count": null,
   "metadata": {},
   "outputs": [
    {
     "data": {
      "text/html": [
       "<div>\n",
       "<style scoped>\n",
       "    .dataframe tbody tr th:only-of-type {\n",
       "        vertical-align: middle;\n",
       "    }\n",
       "\n",
       "    .dataframe tbody tr th {\n",
       "        vertical-align: top;\n",
       "    }\n",
       "\n",
       "    .dataframe thead th {\n",
       "        text-align: right;\n",
       "    }\n",
       "</style>\n",
       "<table border=\"1\" class=\"dataframe\">\n",
       "  <thead>\n",
       "    <tr style=\"text-align: right;\">\n",
       "      <th></th>\n",
       "      <th>type</th>\n",
       "      <th>setup</th>\n",
       "      <th>punchline</th>\n",
       "      <th>id</th>\n",
       "    </tr>\n",
       "  </thead>\n",
       "  <tbody>\n",
       "    <tr>\n",
       "      <th>0</th>\n",
       "      <td>general</td>\n",
       "      <td>When a dad drives past a graveyard: Did you kn...</td>\n",
       "      <td>Yep, people are just dying to get in there</td>\n",
       "      <td>50</td>\n",
       "    </tr>\n",
       "    <tr>\n",
       "      <th>1</th>\n",
       "      <td>general</td>\n",
       "      <td>What creature is smarter than a talking parrot?</td>\n",
       "      <td>A spelling bee.</td>\n",
       "      <td>157</td>\n",
       "    </tr>\n",
       "    <tr>\n",
       "      <th>2</th>\n",
       "      <td>general</td>\n",
       "      <td>What's the difference between a seal and a sea...</td>\n",
       "      <td>An ion!</td>\n",
       "      <td>272</td>\n",
       "    </tr>\n",
       "    <tr>\n",
       "      <th>3</th>\n",
       "      <td>general</td>\n",
       "      <td>What did the judge say to the dentist?</td>\n",
       "      <td>Do you swear to pull the tooth, the whole toot...</td>\n",
       "      <td>174</td>\n",
       "    </tr>\n",
       "    <tr>\n",
       "      <th>4</th>\n",
       "      <td>general</td>\n",
       "      <td>Why did the rooster cross the road?</td>\n",
       "      <td>He heard that the chickens at KFC were pretty ...</td>\n",
       "      <td>391</td>\n",
       "    </tr>\n",
       "    <tr>\n",
       "      <th>5</th>\n",
       "      <td>general</td>\n",
       "      <td>Why do bears have hairy coats?</td>\n",
       "      <td>Fur protection.</td>\n",
       "      <td>341</td>\n",
       "    </tr>\n",
       "    <tr>\n",
       "      <th>6</th>\n",
       "      <td>programming</td>\n",
       "      <td>Why did the programmer bring a ladder to work?</td>\n",
       "      <td>They heard the code needed to be debugged from...</td>\n",
       "      <td>441</td>\n",
       "    </tr>\n",
       "    <tr>\n",
       "      <th>7</th>\n",
       "      <td>general</td>\n",
       "      <td>What’s the advantage of living in Switzerland?</td>\n",
       "      <td>Well, the flag is a big plus.</td>\n",
       "      <td>278</td>\n",
       "    </tr>\n",
       "    <tr>\n",
       "      <th>8</th>\n",
       "      <td>general</td>\n",
       "      <td>What do you get when you cross a bee and a sheep?</td>\n",
       "      <td>A bah-humbug.</td>\n",
       "      <td>229</td>\n",
       "    </tr>\n",
       "    <tr>\n",
       "      <th>9</th>\n",
       "      <td>general</td>\n",
       "      <td>I dropped a pear in my car this morning.</td>\n",
       "      <td>You should drop another one, then you would ha...</td>\n",
       "      <td>57</td>\n",
       "    </tr>\n",
       "  </tbody>\n",
       "</table>\n",
       "</div>"
      ],
      "text/plain": [
       "          type                                              setup  \\\n",
       "0      general  When a dad drives past a graveyard: Did you kn...   \n",
       "1      general    What creature is smarter than a talking parrot?   \n",
       "2      general  What's the difference between a seal and a sea...   \n",
       "3      general             What did the judge say to the dentist?   \n",
       "4      general                Why did the rooster cross the road?   \n",
       "5      general                     Why do bears have hairy coats?   \n",
       "6  programming     Why did the programmer bring a ladder to work?   \n",
       "7      general     What’s the advantage of living in Switzerland?   \n",
       "8      general  What do you get when you cross a bee and a sheep?   \n",
       "9      general           I dropped a pear in my car this morning.   \n",
       "\n",
       "                                           punchline   id  \n",
       "0         Yep, people are just dying to get in there   50  \n",
       "1                                    A spelling bee.  157  \n",
       "2                                           An ion!   272  \n",
       "3  Do you swear to pull the tooth, the whole toot...  174  \n",
       "4  He heard that the chickens at KFC were pretty ...  391  \n",
       "5                                    Fur protection.  341  \n",
       "6  They heard the code needed to be debugged from...  441  \n",
       "7                      Well, the flag is a big plus.  278  \n",
       "8                                      A bah-humbug.  229  \n",
       "9  You should drop another one, then you would ha...   57  "
      ]
     },
     "execution_count": 60,
     "metadata": {},
     "output_type": "execute_result"
    }
   ],
   "source": [
    "result = json.loads(data.text)\n",
    "df1 = pd.DataFrame(result)   # Primera manera de organizar la informacion\n",
    "df2 = pd.json_normalize(result) # Construccion de dataframe desde el archivo json\n",
    "\n",
    "\n"
   ]
  },
  {
   "cell_type": "code",
   "execution_count": 61,
   "metadata": {},
   "outputs": [
    {
     "data": {
      "text/html": [
       "<div>\n",
       "<style scoped>\n",
       "    .dataframe tbody tr th:only-of-type {\n",
       "        vertical-align: middle;\n",
       "    }\n",
       "\n",
       "    .dataframe tbody tr th {\n",
       "        vertical-align: top;\n",
       "    }\n",
       "\n",
       "    .dataframe thead th {\n",
       "        text-align: right;\n",
       "    }\n",
       "</style>\n",
       "<table border=\"1\" class=\"dataframe\">\n",
       "  <thead>\n",
       "    <tr style=\"text-align: right;\">\n",
       "      <th></th>\n",
       "      <th>setup</th>\n",
       "      <th>punchline</th>\n",
       "    </tr>\n",
       "  </thead>\n",
       "  <tbody>\n",
       "    <tr>\n",
       "      <th>0</th>\n",
       "      <td>When a dad drives past a graveyard: Did you kn...</td>\n",
       "      <td>Yep, people are just dying to get in there</td>\n",
       "    </tr>\n",
       "    <tr>\n",
       "      <th>1</th>\n",
       "      <td>What creature is smarter than a talking parrot?</td>\n",
       "      <td>A spelling bee.</td>\n",
       "    </tr>\n",
       "    <tr>\n",
       "      <th>2</th>\n",
       "      <td>What's the difference between a seal and a sea...</td>\n",
       "      <td>An ion!</td>\n",
       "    </tr>\n",
       "    <tr>\n",
       "      <th>3</th>\n",
       "      <td>What did the judge say to the dentist?</td>\n",
       "      <td>Do you swear to pull the tooth, the whole toot...</td>\n",
       "    </tr>\n",
       "    <tr>\n",
       "      <th>4</th>\n",
       "      <td>Why did the rooster cross the road?</td>\n",
       "      <td>He heard that the chickens at KFC were pretty ...</td>\n",
       "    </tr>\n",
       "    <tr>\n",
       "      <th>5</th>\n",
       "      <td>Why do bears have hairy coats?</td>\n",
       "      <td>Fur protection.</td>\n",
       "    </tr>\n",
       "    <tr>\n",
       "      <th>6</th>\n",
       "      <td>Why did the programmer bring a ladder to work?</td>\n",
       "      <td>They heard the code needed to be debugged from...</td>\n",
       "    </tr>\n",
       "    <tr>\n",
       "      <th>7</th>\n",
       "      <td>What’s the advantage of living in Switzerland?</td>\n",
       "      <td>Well, the flag is a big plus.</td>\n",
       "    </tr>\n",
       "    <tr>\n",
       "      <th>8</th>\n",
       "      <td>What do you get when you cross a bee and a sheep?</td>\n",
       "      <td>A bah-humbug.</td>\n",
       "    </tr>\n",
       "    <tr>\n",
       "      <th>9</th>\n",
       "      <td>I dropped a pear in my car this morning.</td>\n",
       "      <td>You should drop another one, then you would ha...</td>\n",
       "    </tr>\n",
       "  </tbody>\n",
       "</table>\n",
       "</div>"
      ],
      "text/plain": [
       "                                               setup  \\\n",
       "0  When a dad drives past a graveyard: Did you kn...   \n",
       "1    What creature is smarter than a talking parrot?   \n",
       "2  What's the difference between a seal and a sea...   \n",
       "3             What did the judge say to the dentist?   \n",
       "4                Why did the rooster cross the road?   \n",
       "5                     Why do bears have hairy coats?   \n",
       "6     Why did the programmer bring a ladder to work?   \n",
       "7     What’s the advantage of living in Switzerland?   \n",
       "8  What do you get when you cross a bee and a sheep?   \n",
       "9           I dropped a pear in my car this morning.   \n",
       "\n",
       "                                           punchline  \n",
       "0         Yep, people are just dying to get in there  \n",
       "1                                    A spelling bee.  \n",
       "2                                           An ion!   \n",
       "3  Do you swear to pull the tooth, the whole toot...  \n",
       "4  He heard that the chickens at KFC were pretty ...  \n",
       "5                                    Fur protection.  \n",
       "6  They heard the code needed to be debugged from...  \n",
       "7                      Well, the flag is a big plus.  \n",
       "8                                      A bah-humbug.  \n",
       "9  You should drop another one, then you would ha...  "
      ]
     },
     "execution_count": 61,
     "metadata": {},
     "output_type": "execute_result"
    }
   ],
   "source": [
    "\n",
    "# Eliminacion de las columnas  de tipo e id\n",
    "df2.drop(columns=['type','id'], inplace=True)\n",
    "df2"
   ]
  }
 ],
 "metadata": {
  "kernelspec": {
   "display_name": "Python 3",
   "language": "python",
   "name": "python3"
  },
  "language_info": {
   "codemirror_mode": {
    "name": "ipython",
    "version": 3
   },
   "file_extension": ".py",
   "mimetype": "text/x-python",
   "name": "python",
   "nbconvert_exporter": "python",
   "pygments_lexer": "ipython3",
   "version": "3.12.1"
  }
 },
 "nbformat": 4,
 "nbformat_minor": 2
}
