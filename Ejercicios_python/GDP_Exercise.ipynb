{
 "cells": [
  {
   "cell_type": "markdown",
   "metadata": {},
   "source": [
    "## Extraccion de datos utilizando WebScraping y API Request\n",
    "\n",
    "# Escenario del proyecto:\n",
    "Se desae expandir un negocio a traves del mundo, y se requiere crear un programa que liste a los 10 economias top en orden descendente segun el fondo monetario internacional (International Monetary Fund, IMF)"
   ]
  },
  {
   "cell_type": "code",
   "execution_count": 19,
   "metadata": {},
   "outputs": [
    {
     "name": "stdout",
     "output_type": "stream",
     "text": [
      "Requirement already satisfied: lxml in c:\\users\\pablo\\appdata\\local\\programs\\python\\python312\\lib\\site-packages (5.3.1)\n",
      "Requirement already satisfied: beautifulsoup4 in c:\\users\\pablo\\appdata\\local\\programs\\python\\python312\\lib\\site-packages (4.12.3)\n",
      "Requirement already satisfied: soupsieve>1.2 in c:\\users\\pablo\\appdata\\local\\programs\\python\\python312\\lib\\site-packages (from beautifulsoup4) (2.5)\n"
     ]
    }
   ],
   "source": [
    "# Instalacion de paquetes\n",
    "#!pip install pandas numpy lxml\n",
    "!pip install lxml beautifulsoup4"
   ]
  },
  {
   "cell_type": "code",
   "execution_count": 3,
   "metadata": {},
   "outputs": [],
   "source": [
    "# Importacion de librerias\n",
    "\n",
    "import numpy as np\n",
    "import pandas as pd\n",
    "\n",
    "# Funcion para ingnorar las advertencias\n",
    "def alertas(*args, **kwargs):\n",
    "    pass\n",
    "import warnings\n",
    "warnings.warn = alertas\n",
    "warnings.filterwarnings('ignore')"
   ]
  },
  {
   "cell_type": "markdown",
   "metadata": {},
   "source": [
    "### Analisis de table ~ 3\n",
    "<img src=\"https://cf-courses-data.s3.us.cloud-object-storage.appdomain.cloud/IBMDeveloperSkillsNetwork-PY0101EN-SkillsNetwork/images/pandas_wbs_3.png\">"
   ]
  },
  {
   "cell_type": "code",
   "execution_count": 4,
   "metadata": {},
   "outputs": [],
   "source": [
    "# Extraccion de datos de UTL usando Web Scraping\n",
    "URL=\"https://web.archive.org/web/20230902185326/https://en.wikipedia.org/wiki/List_of_countries_by_GDP_%28nominal%29\""
   ]
  },
  {
   "cell_type": "code",
   "execution_count": 5,
   "metadata": {},
   "outputs": [],
   "source": [
    "# Se convierte a dataframe la informacion de la pagina\n",
    "result = pd.read_html(URL)\n",
    "result = result[3] # Seleccion de la 3ra tabla\n",
    "result.columns = range(result.shape[1]) # Se reemplaza el nombre de las columnas por el numero de columns"
   ]
  },
  {
   "cell_type": "code",
   "execution_count": 6,
   "metadata": {},
   "outputs": [],
   "source": [
    "df = result.copy()"
   ]
  },
  {
   "cell_type": "code",
   "execution_count": 12,
   "metadata": {},
   "outputs": [
    {
     "data": {
      "text/html": [
       "<div>\n",
       "<style scoped>\n",
       "    .dataframe tbody tr th:only-of-type {\n",
       "        vertical-align: middle;\n",
       "    }\n",
       "\n",
       "    .dataframe tbody tr th {\n",
       "        vertical-align: top;\n",
       "    }\n",
       "\n",
       "    .dataframe thead th {\n",
       "        text-align: right;\n",
       "    }\n",
       "</style>\n",
       "<table border=\"1\" class=\"dataframe\">\n",
       "  <thead>\n",
       "    <tr style=\"text-align: right;\">\n",
       "      <th></th>\n",
       "      <th>Country</th>\n",
       "      <th>GDO (Million USD)</th>\n",
       "    </tr>\n",
       "  </thead>\n",
       "  <tbody>\n",
       "    <tr>\n",
       "      <th>3</th>\n",
       "      <td>Japan</td>\n",
       "      <td>4409738</td>\n",
       "    </tr>\n",
       "    <tr>\n",
       "      <th>4</th>\n",
       "      <td>Germany</td>\n",
       "      <td>4308854</td>\n",
       "    </tr>\n",
       "    <tr>\n",
       "      <th>5</th>\n",
       "      <td>India</td>\n",
       "      <td>3736882</td>\n",
       "    </tr>\n",
       "    <tr>\n",
       "      <th>6</th>\n",
       "      <td>United Kingdom</td>\n",
       "      <td>3158938</td>\n",
       "    </tr>\n",
       "    <tr>\n",
       "      <th>7</th>\n",
       "      <td>France</td>\n",
       "      <td>2923489</td>\n",
       "    </tr>\n",
       "    <tr>\n",
       "      <th>8</th>\n",
       "      <td>Italy</td>\n",
       "      <td>2169745</td>\n",
       "    </tr>\n",
       "    <tr>\n",
       "      <th>9</th>\n",
       "      <td>Canada</td>\n",
       "      <td>2089672</td>\n",
       "    </tr>\n",
       "    <tr>\n",
       "      <th>10</th>\n",
       "      <td>Brazil</td>\n",
       "      <td>2081235</td>\n",
       "    </tr>\n",
       "  </tbody>\n",
       "</table>\n",
       "</div>"
      ],
      "text/plain": [
       "           Country GDO (Million USD)\n",
       "3            Japan           4409738\n",
       "4          Germany           4308854\n",
       "5            India           3736882\n",
       "6   United Kingdom           3158938\n",
       "7           France           2923489\n",
       "8            Italy           2169745\n",
       "9           Canada           2089672\n",
       "10          Brazil           2081235"
      ]
     },
     "execution_count": 12,
     "metadata": {},
     "output_type": "execute_result"
    }
   ],
   "source": [
    "# Seleccionar las columans que muestran Country y Value\n",
    "#df = df[[0,2]]   # 0 = pais, 2 = valor\n",
    "# # Indicar las primeras 10 economias del mundo\n",
    "df = df.iloc[1:11,:]\n",
    "# Asignacion nuevamente de los nombre de las columnas\n",
    "\n",
    "#df.columns = ['Country', 'GDO (Million USD)']  # Al cambiar el nombre de las columnas se debe comentar esta linea\n",
    "df"
   ]
  },
  {
   "cell_type": "code",
   "execution_count": null,
   "metadata": {},
   "outputs": [
    {
     "data": {
      "text/html": [
       "<div>\n",
       "<style scoped>\n",
       "    .dataframe tbody tr th:only-of-type {\n",
       "        vertical-align: middle;\n",
       "    }\n",
       "\n",
       "    .dataframe tbody tr th {\n",
       "        vertical-align: top;\n",
       "    }\n",
       "\n",
       "    .dataframe thead th {\n",
       "        text-align: right;\n",
       "    }\n",
       "</style>\n",
       "<table border=\"1\" class=\"dataframe\">\n",
       "  <thead>\n",
       "    <tr style=\"text-align: right;\">\n",
       "      <th></th>\n",
       "      <th>Country</th>\n",
       "      <th>GDO (Million USD)</th>\n",
       "      <th>GDO (Billion USD)</th>\n",
       "    </tr>\n",
       "  </thead>\n",
       "  <tbody>\n",
       "    <tr>\n",
       "      <th>3</th>\n",
       "      <td>Japan</td>\n",
       "      <td>4409738</td>\n",
       "      <td>4409.74</td>\n",
       "    </tr>\n",
       "    <tr>\n",
       "      <th>4</th>\n",
       "      <td>Germany</td>\n",
       "      <td>4308854</td>\n",
       "      <td>4308.85</td>\n",
       "    </tr>\n",
       "    <tr>\n",
       "      <th>5</th>\n",
       "      <td>India</td>\n",
       "      <td>3736882</td>\n",
       "      <td>3736.88</td>\n",
       "    </tr>\n",
       "    <tr>\n",
       "      <th>6</th>\n",
       "      <td>United Kingdom</td>\n",
       "      <td>3158938</td>\n",
       "      <td>3158.94</td>\n",
       "    </tr>\n",
       "    <tr>\n",
       "      <th>7</th>\n",
       "      <td>France</td>\n",
       "      <td>2923489</td>\n",
       "      <td>2923.49</td>\n",
       "    </tr>\n",
       "    <tr>\n",
       "      <th>8</th>\n",
       "      <td>Italy</td>\n",
       "      <td>2169745</td>\n",
       "      <td>2169.74</td>\n",
       "    </tr>\n",
       "    <tr>\n",
       "      <th>9</th>\n",
       "      <td>Canada</td>\n",
       "      <td>2089672</td>\n",
       "      <td>2089.67</td>\n",
       "    </tr>\n",
       "    <tr>\n",
       "      <th>10</th>\n",
       "      <td>Brazil</td>\n",
       "      <td>2081235</td>\n",
       "      <td>2081.24</td>\n",
       "    </tr>\n",
       "  </tbody>\n",
       "</table>\n",
       "</div>"
      ],
      "text/plain": [
       "           Country  GDO (Million USD)  GDO (Billion USD)\n",
       "3            Japan            4409738            4409.74\n",
       "4          Germany            4308854            4308.85\n",
       "5            India            3736882            3736.88\n",
       "6   United Kingdom            3158938            3158.94\n",
       "7           France            2923489            2923.49\n",
       "8            Italy            2169745            2169.74\n",
       "9           Canada            2089672            2089.67\n",
       "10          Brazil            2081235            2081.24"
      ]
     },
     "execution_count": 22,
     "metadata": {},
     "output_type": "execute_result"
    }
   ],
   "source": [
    "# Conversion de los datos \n",
    "df['GDO (Million USD)'] = df['GDO (Million USD)'].astype('int')    # Cambio de nombre de la columna y tipo de dato\n",
    "# Convertir el Valor de GDP, de millones a billones\n",
    "df[['GDO (Billion USD)']] = df[['GDO (Million USD)']]/1000         # Se agrega una nueva columna con valores\n",
    "# Redondeamos la salida de GDO a 2 decimales\n",
    "df[['GDO (Billion USD)']]  =  np.round(df[['GDO (Billion USD)']], decimals=2)\n",
    "# df.drop(columns=['GDO (Million USD)'], inplace=True) si se desea elminar esta columna se aplica la siguiente linea\n",
    "# df.rename(columns={'Column1' : 'Column2'})"
   ]
  },
  {
   "cell_type": "code",
   "execution_count": null,
   "metadata": {},
   "outputs": [],
   "source": [
    "# Guardar el dataframe al CSV con el nombre largest_economies.csv\n",
    "df.to_csv('./largest_economies.csv', index=False)"
   ]
  }
 ],
 "metadata": {
  "kernelspec": {
   "display_name": "mi_entorno",
   "language": "python",
   "name": "python3"
  },
  "language_info": {
   "codemirror_mode": {
    "name": "ipython",
    "version": 3
   },
   "file_extension": ".py",
   "mimetype": "text/x-python",
   "name": "python",
   "nbconvert_exporter": "python",
   "pygments_lexer": "ipython3",
   "version": "3.9.18"
  }
 },
 "nbformat": 4,
 "nbformat_minor": 2
}
